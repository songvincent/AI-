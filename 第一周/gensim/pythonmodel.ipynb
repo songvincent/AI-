{
 "cells": [
  {
   "cell_type": "code",
   "execution_count": 1,
   "metadata": {},
   "outputs": [
    {
     "name": "stderr",
     "output_type": "stream",
     "text": [
      "c:\\users\\as\\miniconda3\\lib\\site-packages\\gensim\\utils.py:860: UserWarning: detected Windows; aliasing chunkize to chunkize_serial\n",
      "  warnings.warn(\"detected Windows; aliasing chunkize to chunkize_serial\")\n"
     ]
    }
   ],
   "source": [
    "import os\n",
    "from gensim import corpora, models, similarities\n",
    "from pprint import pprint\n",
    "from matplotlib import pyplot as plt\n",
    "import logging"
   ]
  },
  {
   "cell_type": "code",
   "execution_count": 2,
   "metadata": {},
   "outputs": [],
   "source": [
    "from gensim import corpora\n",
    "from collections import defaultdict\n",
    "documents = [\"Human machine interface for lab abc computer applications\",\n",
    "             \"A survey of user opinion of computer system response time\",\n",
    "             \"The EPS user interface management system\",\n",
    "             \"System and human system engineering testing of EPS\",\n",
    "             \"Relation of user perceived response time to error measurement\",\n",
    "             \"The generation of random binary unordered trees\",\n",
    "             \"The intersection graph of paths in trees\",\n",
    "             \"Graph minors IV Widths of trees and well quasi ordering\",\n",
    "             \"Graph minors A survey\"]\n",
    "\n",
    "# 去掉停用词\n",
    "stoplist = set('for a of the and to in'.split())\n",
    "texts = [[word for word in document.lower().split() if word not in stoplist]\n",
    "         for document in documents]\n",
    "\n",
    "# 去掉只出现一次的单词\n",
    "frequency = defaultdict(int)\n",
    "for text in texts:\n",
    "    for token in text:\n",
    "        frequency[token] += 1\n",
    "texts = [[token for token in text if frequency[token] > 1]\n",
    "         for text in texts]\n",
    "\n",
    "dictionary = corpora.Dictionary(texts)   # 生成词典\n",
    "\n",
    "# 将文档存入字典，字典有很多功能，比如\n",
    "# diction.token2id 存放的是单词-id key-value对\n",
    "# diction.dfs 存放的是单词的出现频率\n",
    "dictionary.save('./temp/deerwester.dict')  # store the dictionary, for future reference\n",
    "corpus = [dictionary.doc2bow(text) for text in texts]\n",
    "corpora.MmCorpus.serialize('./temp/deerwester.mm', corpus)  # store to disk, for later use"
   ]
  },
  {
   "cell_type": "code",
   "execution_count": 3,
   "metadata": {},
   "outputs": [],
   "source": [
    "def PrintDictionary(dictionary):\n",
    "    ## diction.token2id 存放的是单词-id key-value对\n",
    "    token2id = dictionary.token2id\n",
    "    # diction.dfs 存放的是单词的出现频率\n",
    "    dfs = dictionary.dfs\n",
    "    token_info = {}\n",
    "    for word in token2id:\n",
    "        token_info[word] = dict(\n",
    "            word = word,#前面是key，后面是value\n",
    "            id = token2id[word],\n",
    "            freq = dfs[token2id[word]]\n",
    "        )\n",
    "    token_items = token_info.values()\n",
    "    token_items = sorted(token_items, key = lambda x:x['id'])\n",
    "    print('The info of dictionary: ')\n",
    "    pprint(token_items)\n",
    "    print('--------------------------')"
   ]
  },
  {
   "cell_type": "code",
   "execution_count": 4,
   "metadata": {},
   "outputs": [
    {
     "name": "stdout",
     "output_type": "stream",
     "text": [
      "Used files generated from first tutorial\n",
      "The info of dictionary: \n",
      "[{'freq': 2, 'id': 0, 'word': 'computer'},\n",
      " {'freq': 2, 'id': 1, 'word': 'human'},\n",
      " {'freq': 2, 'id': 2, 'word': 'interface'},\n",
      " {'freq': 2, 'id': 3, 'word': 'response'},\n",
      " {'freq': 2, 'id': 4, 'word': 'survey'},\n",
      " {'freq': 3, 'id': 5, 'word': 'system'},\n",
      " {'freq': 2, 'id': 6, 'word': 'time'},\n",
      " {'freq': 3, 'id': 7, 'word': 'user'},\n",
      " {'freq': 2, 'id': 8, 'word': 'eps'},\n",
      " {'freq': 3, 'id': 9, 'word': 'trees'},\n",
      " {'freq': 3, 'id': 10, 'word': 'graph'},\n",
      " {'freq': 2, 'id': 11, 'word': 'minors'}]\n",
      "--------------------------\n"
     ]
    }
   ],
   "source": [
    "def Show2dCorpora(corpus):\n",
    "    nodes = list(corpus)\n",
    "    ax0 = [x[0][1] for x in nodes] # 绘制各个doc代表的点\n",
    "    ax1 = [x[1][1] for x in nodes]\n",
    "    # print(ax0)\n",
    "    # print(ax1)\n",
    "    plt.plot(ax0,ax1,'o')\n",
    "    plt.show()\n",
    "\n",
    "if (os.path.exists(\"./temp/deerwester.dict\")):\n",
    "    dictionary = corpora.Dictionary.load('./temp/deerwester.dict')\n",
    "    corpus = corpora.MmCorpus('./temp/deerwester.mm')\n",
    "    print(\"Used files generated from first tutorial\")\n",
    "else:\n",
    "    print(\"Please run first tutorial to generate data set\")\n",
    "\n",
    "PrintDictionary(dictionary)"
   ]
  },
  {
   "cell_type": "code",
   "execution_count": 5,
   "metadata": {},
   "outputs": [],
   "source": [
    "# 尝试将corpus(bow形式) 转化成tf-idf形式\n",
    "tfidf_model = models.TfidfModel(corpus) # step 1 -- initialize a model 将文档由按照词频表示 转变为按照tf-idf格式表示\n",
    "doc_bow = [(0, 1), (1, 1),[4,3]]\n",
    "doc_tfidf = tfidf_model[doc_bow]\n",
    "\n",
    "# 将整个corpus转为tf-idf格式\n",
    "corpus_tfidf = tfidf_model[corpus]\n",
    "# pprint(list(corpus_tfidf))\n",
    "# pprint(list(corpus))"
   ]
  },
  {
   "cell_type": "code",
   "execution_count": 8,
   "metadata": {},
   "outputs": [
    {
     "name": "stdout",
     "output_type": "stream",
     "text": [
      "[(0, 0.30151134457776363), (1, 0.30151134457776363), (4, 0.9045340337332909)]\n"
     ]
    }
   ],
   "source": [
    "print(doc_tfidf)"
   ]
  },
  {
   "cell_type": "code",
   "execution_count": 6,
   "metadata": {},
   "outputs": [],
   "source": [
    "## LSI模型 **************************************************\n",
    "# 转化为lsi模型, 可用作聚类或分类\n",
    "lsi_model = models.LsiModel(corpus_tfidf, id2word=dictionary, num_topics=2)\n",
    "corpus_lsi = lsi_model[corpus_tfidf]\n",
    "nodes = list(corpus_lsi)\n",
    "# pprint(nodes)\n",
    "lsi_model.print_topics(2) # 打印各topic的含义\n",
    "\n",
    "# ax0 = [x[0][1] for x in nodes] # 绘制各个doc代表的点\n",
    "# ax1 = [x[1][1] for x in nodes]\n",
    "# print(ax0)\n",
    "# print(ax1)\n",
    "# plt.plot(ax0,ax1,'o')\n",
    "# plt.show()\n",
    "\n",
    "lsi_model.save('./temp/model.lsi') # same for tfidf, lda, ...\n",
    "lsi_model = models.LsiModel.load('./temp/model.lsi')\n",
    "#  *********************************************************"
   ]
  },
  {
   "cell_type": "code",
   "execution_count": 7,
   "metadata": {},
   "outputs": [
    {
     "data": {
      "image/png": "[encoded data removed]",
      "text/plain": [
       "<matplotlib.figure.Figure at 0x2a037a9f2b0>"
      ]
     },
     "metadata": {},
     "output_type": "display_data"
    }
   ],
   "source": [
    "## LDA模型 **************************************************\n",
    "lda_model = models.LdaModel(corpus_tfidf, id2word=dictionary, num_topics=2)\n",
    "corpus_lda = lda_model[corpus_tfidf]   #其本质还是corpus\n",
    "Show2dCorpora(corpus_lsi)\n",
    "# nodes = list(corpus_lda)\n",
    "# pprint(list(corpus_lda))"
   ]
  },
  {
   "cell_type": "code",
   "execution_count": 10,
   "metadata": {},
   "outputs": [
    {
     "data": {
      "image/png": "[encoded data removed]",
      "text/plain": [
       "<matplotlib.figure.Figure at 0x2a027a8e860>"
      ]
     },
     "metadata": {},
     "output_type": "display_data"
    }
   ],
   "source": [
    "Show2dCorpora(corpus_lda)"
   ]
  },
  {
   "cell_type": "code",
   "execution_count": null,
   "metadata": {},
   "outputs": [],
   "source": []
  }
 ],
 "metadata": {
  "kernelspec": {
   "display_name": "Python 3",
   "language": "python",
   "name": "python3"
  },
  "language_info": {
   "codemirror_mode": {
    "name": "ipython",
    "version": 3
   },
   "file_extension": ".py",
   "mimetype": "text/x-python",
   "name": "python",
   "nbconvert_exporter": "python",
   "pygments_lexer": "ipython3",
   "version": "3.6.1"
  }
 },
 "nbformat": 4,
 "nbformat_minor": 2
}
